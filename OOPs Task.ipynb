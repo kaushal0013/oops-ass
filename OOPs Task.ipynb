{
 "cells": [
  {
   "cell_type": "markdown",
   "id": "5f4d4a3f-49c9-4b62-a836-da1d1180178b",
   "metadata": {},
   "source": [
    "Q1, Create a vehicle class with an init method having instance variables as name_of_vehicle, max_speed\n",
    "and average_of_vehicle."
   ]
  },
  {
   "cell_type": "code",
   "execution_count": 1,
   "id": "86577c7c-46d4-434c-a68c-83f640b3fc7a",
   "metadata": {},
   "outputs": [
    {
     "name": "stdout",
     "output_type": "stream",
     "text": [
      "Name: Toyota Camry, Max Speed: 120 km/h, Average MPG: 30\n"
     ]
    }
   ],
   "source": [
    "class Vehicle:\n",
    "    def __init__(self, name_of_vehicle, max_speed, average_of_vehicle):\n",
    "        self.name_of_vehicle = name_of_vehicle\n",
    "        self.max_speed = max_speed\n",
    "        self.average_of_vehicle = average_of_vehicle\n",
    "car = Vehicle(\"Toyota Camry\", 120, 30)\n",
    "print(f\"Name: {car.name_of_vehicle}, Max Speed: {car.max_speed} km/h, Average MPG: {car.average_of_vehicle}\")\n"
   ]
  },
  {
   "cell_type": "code",
   "execution_count": null,
   "id": "10d4b05b-52aa-43b0-9d98-266574b001eb",
   "metadata": {},
   "outputs": [],
   "source": []
  },
  {
   "cell_type": "markdown",
   "id": "ace519ba-af6b-493a-ab8b-4ac0533c8b5e",
   "metadata": {},
   "source": [
    "Q2. Create a child class car from the vehicle class created in Que 1, which will inherit the vehicle class.\n",
    "Create a method named seating_capacity which takes capacity as an argument and returns the name of\n",
    "the vehicle and its seating capacity."
   ]
  },
  {
   "cell_type": "code",
   "execution_count": 2,
   "id": "26fde5dc-5c43-422c-b911-466afdfa7602",
   "metadata": {},
   "outputs": [
    {
     "name": "stdout",
     "output_type": "stream",
     "text": [
      "Name: Toyota Camry, Max Speed: 120 km/h, Average MPG: 30\n",
      "Toyota Camry has a seating capacity of 5 people.\n"
     ]
    }
   ],
   "source": [
    "class Vehicle:\n",
    "    def __init__(self, name_of_vehicle, max_speed, average_of_vehicle):\n",
    "        self.name_of_vehicle = name_of_vehicle\n",
    "        self.max_speed = max_speed\n",
    "        self.average_of_vehicle = average_of_vehicle\n",
    "\n",
    "class Car(Vehicle):\n",
    "    def __init__(self, name_of_vehicle, max_speed, average_of_vehicle):\n",
    "        super().__init__(name_of_vehicle, max_speed, average_of_vehicle)\n",
    "\n",
    "    def seating_capacity(self, capacity):\n",
    "        return f\"{self.name_of_vehicle} has a seating capacity of {capacity} people.\"\n",
    "    \n",
    "car = Car(\"Toyota Camry\", 120, 30)\n",
    "print(f\"Name: {car.name_of_vehicle}, Max Speed: {car.max_speed} km/h, Average MPG: {car.average_of_vehicle}\")\n",
    "print(car.seating_capacity(5))\n"
   ]
  },
  {
   "cell_type": "code",
   "execution_count": null,
   "id": "60da1171-6a88-43e7-9c03-b2477ac05b1c",
   "metadata": {},
   "outputs": [],
   "source": []
  },
  {
   "cell_type": "markdown",
   "id": "ddf08ddd-8485-4542-b1b6-0e3c3d12150e",
   "metadata": {},
   "source": [
    "Q3. What is multiple inheritance? Write a python code to demonstrate multiple inheritance."
   ]
  },
  {
   "cell_type": "raw",
   "id": "af4bb28f-54aa-4b0e-a630-b5157d621b4c",
   "metadata": {},
   "source": [
    "Multiple inheritance is a feature in object-oriented programming where a class can inherit attributes and methods from more than one parent class. In Python, you can create a class that inherits from multiple parent classes, allowing it to access the attributes and methods of all its parent classes. This is useful when you want to combine functionality from different classes into a single class."
   ]
  },
  {
   "cell_type": "code",
   "execution_count": 1,
   "id": "9a9fc02b-5495-435d-902b-f8eb0b54176c",
   "metadata": {},
   "outputs": [
    {
     "name": "stdout",
     "output_type": "stream",
     "text": [
      "Batman is a bat and can both make mammal sounds and chirp.\n"
     ]
    }
   ],
   "source": [
    "class Animal:\n",
    "    def __init__(self, name):\n",
    "        self.name = name\n",
    "\n",
    "    def speak(self):\n",
    "        pass\n",
    "\n",
    "class Mammal(Animal):\n",
    "    def speak(self):\n",
    "        return f\"{self.name} is a mammal and can make mammal sounds.\"\n",
    "\n",
    "class Bird(Animal):\n",
    "    def speak(self):\n",
    "        return f\"{self.name} is a bird and can chirp.\"\n",
    "\n",
    "class Bat(Mammal, Bird):\n",
    "    def speak(self):\n",
    "        return f\"{self.name} is a bat and can both make mammal sounds and chirp.\"\n",
    "\n",
    "bat = Bat(\"Batman\")\n",
    "print(bat.speak())\n"
   ]
  },
  {
   "cell_type": "code",
   "execution_count": null,
   "id": "5d15c40e-4d8e-4a5b-8307-d0e35c4c0054",
   "metadata": {},
   "outputs": [],
   "source": []
  },
  {
   "cell_type": "markdown",
   "id": "a0ccf0b3-a842-4e39-a715-6f2c68342568",
   "metadata": {},
   "source": [
    "Q4. What are getter and setter in python? Create a class and create a getter and a setter method in this\n",
    "class."
   ]
  },
  {
   "cell_type": "raw",
   "id": "7c8010b3-1c73-45e8-bdcb-caabac9baa33",
   "metadata": {},
   "source": [
    "In Python, getter and setter methods are used to control access to the attributes of a class. They allow you to encapsulate and control how you get and set the values of instance variables. This encapsulation is a fundamental concept in object-oriented programming and helps you maintain the integrity of your data and perform validation or additional logic when accessing or modifying attributes.\n",
    "\n",
    "A getter method allows you to retrieve the value of an attribute, and a setter method allows you to set or modify the value of an attribute. By using getter and setter methods, you can add additional logic or validation while getting or setting the attribute."
   ]
  },
  {
   "cell_type": "code",
   "execution_count": 2,
   "id": "8408c17e-7813-4726-aa38-23c687489474",
   "metadata": {},
   "outputs": [
    {
     "name": "stdout",
     "output_type": "stream",
     "text": [
      "Initial Name: Kaushal\n",
      "Updated Name: Rutu\n",
      "Initial Age: 21\n",
      "Updated Age: 23\n"
     ]
    }
   ],
   "source": [
    "class Student:\n",
    "    def __init__(self, name, age):\n",
    "        self._name = name  \n",
    "        self._age = age    \n",
    "\n",
    "    \n",
    "    def get_name(self):\n",
    "        return self._name\n",
    "\n",
    "\n",
    "    def set_name(self, name):\n",
    "        if len(name) >= 2:\n",
    "            self._name = name\n",
    "        else:\n",
    "            print(\"Name must be at least 2 characters long.\")\n",
    "\n",
    "\n",
    "    def get_age(self):\n",
    "        return self._age\n",
    "\n",
    "   \n",
    "    def set_age(self, age):\n",
    "        if age >= 0:\n",
    "            self._age = age\n",
    "        else:\n",
    "            print(\"Age cannot be negative.\")\n",
    "\n",
    "student = Student(\"Kaushal\", 21)\n",
    "\n",
    "\n",
    "print(\"Initial Name:\", student.get_name())\n",
    "student.set_name(\"Rutu\")\n",
    "print(\"Updated Name:\", student.get_name())\n",
    "\n",
    "print(\"Initial Age:\", student.get_age())\n",
    "student.set_age(23)\n",
    "print(\"Updated Age:\", student.get_age())\n"
   ]
  },
  {
   "cell_type": "code",
   "execution_count": null,
   "id": "ead0ebb4-b9e4-4252-b3a8-e5de8c235510",
   "metadata": {},
   "outputs": [],
   "source": []
  },
  {
   "cell_type": "markdown",
   "id": "a4345b05-f7eb-4c4f-9eb4-54777d9e2d70",
   "metadata": {},
   "source": [
    "Q5.What is method overriding in python? Write a python code to demonstrate method overriding."
   ]
  },
  {
   "cell_type": "raw",
   "id": "ca0caf73-3298-4a72-bf79-4253c4bd7509",
   "metadata": {},
   "source": [
    "Method overriding is a feature in object-oriented programming that allows a subclass to provide a specific implementation of a method that is already defined in its parent class. When a subclass overrides a method, it provides its own version of the method with the same name and signature. This allows the subclass to customize or extend the behavior of the inherited method without modifying the parent class."
   ]
  },
  {
   "cell_type": "code",
   "execution_count": null,
   "id": "dbc2991e-63b5-4720-a022-9aa571e2d09d",
   "metadata": {},
   "outputs": [],
   "source": [
    "class Animal:\n",
    "    def speak(self):\n",
    "        print(\"This is a generic animal speaking.\")\n",
    "\n",
    "class Dog(Animal):\n",
    "    def speak(self):\n",
    "        print(\"Woof! Woof! I'm a dog.\")\n",
    "\n",
    "class Cat(Animal):\n",
    "    def speak(self):\n",
    "        print(\"Meow! Meow! I'm a cat.\")\n",
    "\n",
    "animal = Animal()\n",
    "dog = Dog()\n",
    "cat = Cat()\n",
    "\n",
    "\n",
    "animal.speak()  \n",
    "dog.speak()     \n",
    "cat.speak()     # Calls the overridden method in the Cat class\n"
   ]
  }
 ],
 "metadata": {
  "kernelspec": {
   "display_name": "Python 3 (ipykernel)",
   "language": "python",
   "name": "python3"
  },
  "language_info": {
   "codemirror_mode": {
    "name": "ipython",
    "version": 3
   },
   "file_extension": ".py",
   "mimetype": "text/x-python",
   "name": "python",
   "nbconvert_exporter": "python",
   "pygments_lexer": "ipython3",
   "version": "3.10.8"
  }
 },
 "nbformat": 4,
 "nbformat_minor": 5
}
